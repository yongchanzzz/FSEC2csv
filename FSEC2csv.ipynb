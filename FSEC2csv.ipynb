{
  "cells": [
    {
      "cell_type": "markdown",
      "metadata": {
        "id": "view-in-github",
        "colab_type": "text"
      },
      "source": [
        "<a href=\"https://colab.research.google.com/github/yongchanzzz/FSEC2csv/blob/main/FSEC2csv.ipynb\" target=\"_parent\"><img src=\"https://colab.research.google.com/assets/colab-badge.svg\" alt=\"Open In Colab\"/></a>"
      ]
    },
    {
      "cell_type": "markdown",
      "metadata": {
        "id": "9cfb1d52"
      },
      "source": [
        "# FSEC to csv converter\n",
        "FSEC2csv merges ASCII files from a Shimadzu HPLC and writes out a single csv file for later use.\n"
      ],
      "id": "9cfb1d52"
    },
    {
      "cell_type": "code",
      "execution_count": null,
      "metadata": {
        "id": "6323fff1",
        "cellView": "form"
      },
      "outputs": [],
      "source": [
        "#@title Import necessary libraries and upload files\n",
        "import re\n",
        "import csv\n",
        "from google.colab import files\n",
        "from datetime import datetime\n",
        "\n",
        "uploaded_files = files.upload()"
      ],
      "id": "6323fff1"
    },
    {
      "cell_type": "code",
      "execution_count": null,
      "metadata": {
        "id": "22367b75",
        "cellView": "form"
      },
      "outputs": [],
      "source": [
        "#@title Choose a channel\n",
        "channel = \"B-Ch1\" #@param [\"B-Ch1\", \"B-Ch2\", \"A-Ch1\"]"
      ],
      "id": "22367b75"
    },
    {
      "cell_type": "code",
      "execution_count": null,
      "metadata": {
        "id": "a4fb77ce",
        "cellView": "form"
      },
      "outputs": [],
      "source": [
        "#@title Run codes and generate csv\n",
        "\n",
        "def process_file_content(file_content, channel):\n",
        "    # Process file content and extract time and data values\n",
        "    start_pattern = re.compile(r\"\\[LC Chromatogram\\(Detector \" + re.escape(channel) + r\"\\)\\]\")\n",
        "    end_pattern = re.compile(r\"^\\s*$\")\n",
        "    data_values = []\n",
        "    time_values = []\n",
        "    time_header = \"time\"  # Default header for time\n",
        "    data_headers = []\n",
        "\n",
        "    # Try different encodings to read the file\n",
        "    for encoding in [\"utf-8\", \"ISO-8859-1\", \"windows-1252\"]:\n",
        "        try:\n",
        "            content = file_content.decode(encoding).split(\"\\n\")\n",
        "            break\n",
        "        except UnicodeDecodeError:\n",
        "            continue\n",
        "    else:\n",
        "        raise UnicodeDecodeError(\"Could not decode the file with any of the provided encodings.\")\n",
        "\n",
        "    header_processed = False\n",
        "    inside_section = False\n",
        "    for line in content:\n",
        "        if not header_processed and \"Sample Name\" in line:\n",
        "            # Extract headers\n",
        "            parts = line.strip().split(\"\\t\")\n",
        "            time_header = parts[0].replace(\"Sample Name\", \"time\")\n",
        "            data_headers = parts[1:]  # This will be a list of headers after \"Sample Name\"\n",
        "            header_processed = True\n",
        "            continue\n",
        "        if start_pattern.search(line):\n",
        "            inside_section = True\n",
        "            continue\n",
        "        if inside_section and end_pattern.search(line):\n",
        "            break\n",
        "        if inside_section:\n",
        "            parts = line.strip().split(\"\\t\")\n",
        "            if len(parts) >= 2 and parts[0].replace('.', '', 1).isdigit():\n",
        "                time_values.append(parts[0])\n",
        "                data_values.append(parts[1:])\n",
        "    return time_values, data_values, time_header, data_headers\n",
        "\n",
        "def process_files(files, channel):\n",
        "    combined_data = {}\n",
        "    headers = [\"time\"]  # Default header for time\n",
        "    first_file = True\n",
        "\n",
        "    for filename, file_content in files.items():\n",
        "        time_values, data_values, time_header, file_data_headers = process_file_content(file_content, channel)\n",
        "        if first_file:\n",
        "            headers = [time_header] + file_data_headers  # Update headers from the first file\n",
        "            first_file = False\n",
        "        else:\n",
        "            # Append only data headers (excluding time) from subsequent files\n",
        "            headers.extend(file_data_headers)\n",
        "\n",
        "        for time, data in zip(time_values, data_values):\n",
        "            if time in combined_data:\n",
        "                combined_data[time].extend(data)\n",
        "            else:\n",
        "                # Initialize with empty data for previous files and add data for the current file\n",
        "                combined_data[time] = [''] * (len(headers) - len(data) - 1) + data\n",
        "\n",
        "    # Convert the dictionary to a 2D list for CSV writing\n",
        "    # No sorting applied, preserving the original order\n",
        "    csv_data = [[time] + combined_data[time] for time in combined_data.keys()]\n",
        "    return headers, csv_data\n",
        "\n",
        "def write_csv(headers, data, filename):\n",
        "    with open(filename, 'w', newline='') as csvfile:\n",
        "        csvwriter = csv.writer(csvfile)\n",
        "        csvwriter.writerow(headers)  # Write headers to the CSV file\n",
        "        csvwriter.writerows(data)\n"
      ],
      "id": "a4fb77ce"
    },
    {
      "cell_type": "code",
      "execution_count": null,
      "metadata": {
        "id": "d9a2a38e",
        "cellView": "form"
      },
      "outputs": [],
      "source": [
        "#@title Automatic download\n",
        "# Generate file name from the current date and time\n",
        "now = datetime.now()\n",
        "timestamp_str = now.strftime('%Y%m%d_%H%M%S')\n",
        "csv_filename = f\"FSEC_{timestamp_str}_{channel}.csv\"\n",
        "\n",
        "# Process and write data\n",
        "headers, processed_data = process_files(uploaded_files, channel)\n",
        "write_csv(headers, processed_data, csv_filename)\n",
        "print(f\"Data written to {csv_filename}\")\n",
        "\n",
        "files.download(csv_filename)"
      ],
      "id": "d9a2a38e"
    }
  ],
  "metadata": {
    "colab": {
      "provenance": [],
      "include_colab_link": true
    },
    "kernelspec": {
      "display_name": "Python 3",
      "name": "python3"
    },
    "language_info": {
      "name": "python"
    }
  },
  "nbformat": 4,
  "nbformat_minor": 5
}
